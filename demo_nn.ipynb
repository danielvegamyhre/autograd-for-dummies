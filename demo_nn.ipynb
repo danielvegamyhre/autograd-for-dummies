{
 "cells": [
  {
   "cell_type": "code",
   "execution_count": 1,
   "metadata": {},
   "outputs": [],
   "source": [
    "# standard data science libraries\n",
    "import random\n",
    "import numpy as np\n",
    "import matplotlib.pyplot as plt\n",
    "from sklearn.model_selection import train_test_split\n",
    "%matplotlib inline"
   ]
  },
  {
   "cell_type": "code",
   "execution_count": 2,
   "metadata": {},
   "outputs": [],
   "source": [
    "# autograd modules\n",
    "from autograd import nn\n",
    "from autograd.engine import Scalar\n",
    "from autograd.visualize import draw_graph"
   ]
  },
  {
   "cell_type": "code",
   "execution_count": 3,
   "metadata": {},
   "outputs": [],
   "source": [
    "# get toy dataset\n",
    "from sklearn.datasets import make_moons, make_blobs"
   ]
  },
  {
   "cell_type": "code",
   "execution_count": 5,
   "metadata": {},
   "outputs": [
    {
     "data": {
      "text/plain": [
       "<matplotlib.collections.PathCollection at 0x113542be0>"
      ]
     },
     "execution_count": 5,
     "metadata": {},
     "output_type": "execute_result"
    },
    {
     "data": {
      "image/png": "[encoded data removed]",
      "text/plain": [
       "<Figure size 360x360 with 1 Axes>"
      ]
     },
     "metadata": {
      "needs_background": "light"
     },
     "output_type": "display_data"
    }
   ],
   "source": [
    "# prepare and visualze data\n",
    "np.random.seed(1337)\n",
    "random.seed(1337)\n",
    "\n",
    "\n",
    "X, y = make_moons(n_samples=100, noise=0.1)\n",
    "\n",
    "y = y*2 - 1 # make y be -1 or 1\n",
    "\n",
    "plt.figure(figsize=(5,5))\n",
    "plt.scatter(X[:,0], X[:,1], c=y, s=20, cmap='jet')"
   ]
  },
  {
   "cell_type": "code",
   "execution_count": 6,
   "metadata": {},
   "outputs": [
    {
     "name": "stdout",
     "output_type": "stream",
     "text": [
      "MLP([Layer([ReLUNeuron(2),ReLUNeuron(2),ReLUNeuron(2),ReLUNeuron(2),ReLUNeuron(2),ReLUNeuron(2),ReLUNeuron(2),ReLUNeuron(2),ReLUNeuron(2),ReLUNeuron(2),ReLUNeuron(2),ReLUNeuron(2),ReLUNeuron(2),ReLUNeuron(2),ReLUNeuron(2),ReLUNeuron(2)]),Layer([ReLUNeuron(16),ReLUNeuron(16),ReLUNeuron(16),ReLUNeuron(16),ReLUNeuron(16),ReLUNeuron(16),ReLUNeuron(16),ReLUNeuron(16),ReLUNeuron(16),ReLUNeuron(16),ReLUNeuron(16),ReLUNeuron(16),ReLUNeuron(16),ReLUNeuron(16),ReLUNeuron(16),ReLUNeuron(16)]),Layer([LinearNeuron(16)])])\n",
      "\n",
      "Number of trainable parameters: 337\n"
     ]
    }
   ],
   "source": [
    "# create feed-forward multi-layer perceptron\n",
    "# - 2 dimensional input data\n",
    "# - 2 layers of 16 hidden units each\n",
    "# - 1 unit output layer\n",
    "model = nn.MLP(2, [16,16,1])\n",
    "print(model)\n",
    "print(f\"\\nNumber of trainable parameters: {len(model.parameters())}\")"
   ]
  },
  {
   "cell_type": "code",
   "execution_count": 7,
   "metadata": {},
   "outputs": [],
   "source": [
    "# define loss function\n",
    "def calculate_loss(batch_size=None):\n",
    "    if not batch_size:\n",
    "        Xb, yb = X, y\n",
    "    else:\n",
    "        random_indexes = np.random.permutation(X.shape[0])[:batch_size]\n",
    "        Xb, yb = X[random_indexes], y[random_indexes]\n",
    "    \n",
    "    # initialize inputs as Scalars\n",
    "    inputs = [list(map(Scalar, row)) for row in Xb]\n",
    "    \n",
    "    # forward propagation\n",
    "    outputs = list(map(model, inputs))\n",
    "    \n",
    "    # svm \"max-margin\" loss\n",
    "    losses = [(1 + -y_i*output_i).relu() for y_i, output_i in zip(yb, outputs)]\n",
    "    data_loss = sum(losses) * (1.0 / len(losses))\n",
    "    \n",
    "    # L2 regularzation (adding sum of squares of weights to penalize large weights, times hyperparameter alpha)\n",
    "    alpha = 1e-4\n",
    "    reg_loss = alpha * sum((p*p for p in model.parameters()))\n",
    "    total_loss = data_loss + reg_loss\n",
    "\n",
    "    # calculate\n",
    "    accuracy = [(y_i > 0) == (output_i.value > 0) for y_i, output_i in zip(yb, outputs)]\n",
    "    return total_loss, sum(accuracy) / len(accuracy)"
   ]
  },
  {
   "cell_type": "code",
   "execution_count": 10,
   "metadata": {},
   "outputs": [],
   "source": [
    "# training\n",
    "def train(epochs=101, debug=False):\n",
    "    for epoch in range(epochs):\n",
    "        total_loss, accuracy = calculate_loss()\n",
    "        \n",
    "        # zero out previous gradients for next iteration of backpropagation\n",
    "        model.zero_grad()\n",
    "        \n",
    "        # backprop\n",
    "        total_loss.backward()\n",
    "        \n",
    "        # update parameters (stochastic gradient descent with learning rate decay)\n",
    "        learning_rate = 1.0 - 0.9*epoch/100\n",
    "        \n",
    "        for parameter in model.parameters():\n",
    "            if debug:\n",
    "                print('before',parameter.value,'grad',parameter.grad)\n",
    "            parameter.value -= learning_rate * parameter.grad\n",
    "            if debug:\n",
    "                print('after',parameter.value)\n",
    "        if epoch % 5 == 0:\n",
    "            print(f\"Epoch: {epoch}, Loss: {total_loss.value}, Accuracy: {accuracy*100}%\")"
   ]
  },
  {
   "cell_type": "code",
   "execution_count": 11,
   "metadata": {},
   "outputs": [
    {
     "name": "stdout",
     "output_type": "stream",
     "text": [
      "Epoch: 0, Loss: 0.25099055297915035, Accuracy: 92.0%\n",
      "Epoch: 5, Loss: 0.16832181877660793, Accuracy: 94.0%\n",
      "Epoch: 10, Loss: 0.14815869258494244, Accuracy: 94.0%\n",
      "Epoch: 15, Loss: 0.09979947822927274, Accuracy: 97.0%\n",
      "Epoch: 20, Loss: 0.0995300117831564, Accuracy: 97.0%\n",
      "Epoch: 25, Loss: 0.06503786908723787, Accuracy: 97.0%\n",
      "Epoch: 30, Loss: 0.05338726500789012, Accuracy: 98.0%\n",
      "Epoch: 35, Loss: 0.03598992968198857, Accuracy: 100.0%\n",
      "Epoch: 40, Loss: 0.03912343325859804, Accuracy: 99.0%\n",
      "Epoch: 45, Loss: 0.1813760029554587, Accuracy: 95.0%\n",
      "Epoch: 50, Loss: 0.01918046495537152, Accuracy: 100.0%\n",
      "Epoch: 55, Loss: 0.016029717940245092, Accuracy: 100.0%\n",
      "Epoch: 60, Loss: 0.01333824716983742, Accuracy: 100.0%\n",
      "Epoch: 65, Loss: 0.014204703647035728, Accuracy: 100.0%\n",
      "Epoch: 70, Loss: 0.013909062559629261, Accuracy: 100.0%\n",
      "Epoch: 75, Loss: 0.011074197213162032, Accuracy: 100.0%\n",
      "Epoch: 80, Loss: 0.011067399534124566, Accuracy: 100.0%\n",
      "Epoch: 85, Loss: 0.01106160158369822, Accuracy: 100.0%\n",
      "Epoch: 90, Loss: 0.011056801785727682, Accuracy: 100.0%\n",
      "Epoch: 95, Loss: 0.011052998834289207, Accuracy: 100.0%\n",
      "Epoch: 100, Loss: 0.011050191693098394, Accuracy: 100.0%\n"
     ]
    }
   ],
   "source": [
    "train()"
   ]
  },
  {
   "cell_type": "code",
   "execution_count": 13,
   "metadata": {},
   "outputs": [
    {
     "data": {
      "text/plain": [
       "(-1.548639298268643, 1.951360701731357)"
      ]
     },
     "execution_count": 13,
     "metadata": {},
     "output_type": "execute_result"
    },
    {
     "data": {
      "image/png": "[encoded data removed]",
      "text/plain": [
       "<Figure size 432x288 with 1 Axes>"
      ]
     },
     "metadata": {
      "needs_background": "light"
     },
     "output_type": "display_data"
    }
   ],
   "source": [
    "# visualize decision boundary\n",
    "h = 0.25\n",
    "x_min, x_max = X[:, 0].min() - 1, X[:, 0].max() + 1\n",
    "y_min, y_max = X[:, 1].min() - 1, X[:, 1].max() + 1\n",
    "xx, yy = np.meshgrid(np.arange(x_min, x_max, h),\n",
    "                     np.arange(y_min, y_max, h))\n",
    "Xmesh = np.c_[xx.ravel(), yy.ravel()]\n",
    "inputs = [list(map(Scalar, xrow)) for xrow in Xmesh]\n",
    "outputs = list(map(model, inputs))\n",
    "Z = np.array([output.value > 0 for output in outputs])\n",
    "Z = Z.reshape(xx.shape)\n",
    "\n",
    "fig = plt.figure()\n",
    "plt.contourf(xx, yy, Z, cmap=plt.cm.Spectral, alpha=0.8)\n",
    "plt.scatter(X[:, 0], X[:, 1], c=y, s=40, cmap=plt.cm.Spectral)\n",
    "plt.xlim(xx.min(), xx.max())\n",
    "plt.ylim(yy.min(), yy.max())"
   ]
  }
 ],
 "metadata": {
  "kernelspec": {
   "display_name": "Python 3",
   "language": "python",
   "name": "python3"
  },
  "language_info": {
   "codemirror_mode": {
    "name": "ipython",
    "version": 3
   },
   "file_extension": ".py",
   "mimetype": "text/x-python",
   "name": "python",
   "nbconvert_exporter": "python",
   "pygments_lexer": "ipython3",
   "version": "3.7.0"
  }
 },
 "nbformat": 4,
 "nbformat_minor": 4
}
