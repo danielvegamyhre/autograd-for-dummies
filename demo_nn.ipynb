{
 "cells": [
  {
   "cell_type": "code",
   "execution_count": 17,
   "metadata": {},
   "outputs": [],
   "source": [
    "# standard data science libraries\n",
    "import random\n",
    "import numpy as np\n",
    "import matplotlib.pyplot as plt\n",
    "from sklearn.model_selection import train_test_split\n",
    "%matplotlib inline"
   ]
  },
  {
   "cell_type": "code",
   "execution_count": 32,
   "metadata": {},
   "outputs": [],
   "source": [
    "# autograd modules\n",
    "from autograd import nn\n",
    "from autograd.engine import Scalar\n",
    "from autograd.visualize import draw_graph"
   ]
  },
  {
   "cell_type": "code",
   "execution_count": 5,
   "metadata": {},
   "outputs": [],
   "source": [
    "# get toy dataset\n",
    "from sklearn.datasets import make_moons, make_blobs"
   ]
  },
  {
   "cell_type": "code",
   "execution_count": 87,
   "metadata": {},
   "outputs": [
    {
     "data": {
      "text/plain": [
       "<matplotlib.collections.PathCollection at 0x11ccb8b70>"
      ]
     },
     "execution_count": 87,
     "metadata": {},
     "output_type": "execute_result"
    },
    {
     "data": {
      "image/png": "[encoded data removed]",
      "text/plain": [
       "<Figure size 432x288 with 1 Axes>"
      ]
     },
     "metadata": {
      "needs_background": "light"
     },
     "output_type": "display_data"
    }
   ],
   "source": [
    "# prepare and visualze data\n",
    "np.random.seed(1337)\n",
    "random.seed(1337)\n",
    "y = y*2 - 1 \n",
    "X, y = make_moons(n_samples=100, noise=0.1)\n",
    "plt.scatter(X[:,0], X[:,1], c=y)"
   ]
  },
  {
   "cell_type": "code",
   "execution_count": 88,
   "metadata": {},
   "outputs": [
    {
     "name": "stdout",
     "output_type": "stream",
     "text": [
      "MLP([Layer([ReLUNeuron(2),ReLUNeuron(2),ReLUNeuron(2),ReLUNeuron(2),ReLUNeuron(2),ReLUNeuron(2),ReLUNeuron(2),ReLUNeuron(2),ReLUNeuron(2),ReLUNeuron(2),ReLUNeuron(2),ReLUNeuron(2),ReLUNeuron(2),ReLUNeuron(2),ReLUNeuron(2),ReLUNeuron(2)]),Layer([ReLUNeuron(16),ReLUNeuron(16),ReLUNeuron(16),ReLUNeuron(16),ReLUNeuron(16),ReLUNeuron(16),ReLUNeuron(16),ReLUNeuron(16),ReLUNeuron(16),ReLUNeuron(16),ReLUNeuron(16),ReLUNeuron(16),ReLUNeuron(16),ReLUNeuron(16),ReLUNeuron(16),ReLUNeuron(16)]),Layer([LinearNeuron(16)])])\n",
      "\n",
      "Number of trainable parameters: 337\n"
     ]
    }
   ],
   "source": [
    "# create feed-forward multi-layer perceptron\n",
    "# - 2 dimensional input data\n",
    "# - 2 layers of 16 hidden units each\n",
    "# - 1 unit output layer\n",
    "model = nn.MLP(2, [16,16,1])\n",
    "print(model)\n",
    "print(f\"\\nNumber of trainable parameters: {len(model.parameters())}\")"
   ]
  },
  {
   "cell_type": "code",
   "execution_count": 92,
   "metadata": {},
   "outputs": [],
   "source": [
    "# define loss function\n",
    "def calculate_loss(batch_size=None):\n",
    "    if not batch_size:\n",
    "        Xb, yb = X, y\n",
    "    else:\n",
    "        random_indexes = np.random.permutation(X.shape[0])[:batch_size]\n",
    "        Xb, yb = X[random_indexes], y[random_indexes]\n",
    "    \n",
    "    # initialize inputs as Scalars\n",
    "    inputs = [list(map(Scalar, row)) for row in Xb]\n",
    "    \n",
    "    # forward propagation\n",
    "    outputs = list(map(model, inputs))\n",
    "    \n",
    "    # svm \"max-margin\" loss\n",
    "    losses = [(1 + -y_i*output_i).relu() for y_i, output_i in zip(yb, outputs)]\n",
    "    data_loss = sum(losses) * (1.0 / len(losses))\n",
    "    \n",
    "    # L2 regularzation (adding sum of squares of weights to penalize large weights, times hyperparameter alpha)\n",
    "    alpha = 1e-4\n",
    "    reg_loss = alpha * sum((p*p for p in model.parameters()))\n",
    "    total_loss = data_loss + reg_loss\n",
    "\n",
    "    # calculate\n",
    "    accuracy = [(y_i > 0) == (output_i.value > 0) for y_i, output_i in zip(yb, outputs)]\n",
    "    return total_loss, sum(accuracy) / len(accuracy)"
   ]
  },
  {
   "cell_type": "code",
   "execution_count": 93,
   "metadata": {},
   "outputs": [],
   "source": [
    "# training\n",
    "def train(epochs=11, debug=False):\n",
    "    for epoch in range(epochs):\n",
    "        total_loss, accuracy = calculate_loss()\n",
    "        \n",
    "        # zero out previous gradients for next iteration of backpropagation\n",
    "        model.zero_grad()\n",
    "        \n",
    "        # backprop\n",
    "        total_loss.backward()\n",
    "        \n",
    "        # update parameters (stochastic gradient descent with learning rate decay)\n",
    "        learning_rate = 1.0 - 0.9*epoch/100\n",
    "        \n",
    "        for parameter in model.parameters():\n",
    "            if debug:\n",
    "                print('before',parameter.value,'grad',parameter.grad)\n",
    "            parameter.value -= learning_rate * parameter.grad\n",
    "            if debug:\n",
    "                print('after',parameter.value)\n",
    "        if epoch % 5 == 0:\n",
    "            print(f\"Epoch: {epoch}, Loss: {total_loss.value}, Accuracy: {accuracy*100}%\")"
   ]
  },
  {
   "cell_type": "code",
   "execution_count": 94,
   "metadata": {},
   "outputs": [
    {
     "name": "stdout",
     "output_type": "stream",
     "text": [
      "Epoch: 0, Loss: 0.5, Accuracy: 50.0%\n",
      "Epoch: 5, Loss: 0.5, Accuracy: 50.0%\n",
      "Epoch: 10, Loss: 0.5, Accuracy: 50.0%\n"
     ]
    }
   ],
   "source": [
    "train()"
   ]
  },
  {
   "cell_type": "code",
   "execution_count": null,
   "metadata": {},
   "outputs": [],
   "source": []
  },
  {
   "cell_type": "code",
   "execution_count": null,
   "metadata": {},
   "outputs": [],
   "source": []
  }
 ],
 "metadata": {
  "kernelspec": {
   "display_name": "Python 3",
   "language": "python",
   "name": "python3"
  },
  "language_info": {
   "codemirror_mode": {
    "name": "ipython",
    "version": 3
   },
   "file_extension": ".py",
   "mimetype": "text/x-python",
   "name": "python",
   "nbconvert_exporter": "python",
   "pygments_lexer": "ipython3",
   "version": "3.7.0"
  }
 },
 "nbformat": 4,
 "nbformat_minor": 4
}
